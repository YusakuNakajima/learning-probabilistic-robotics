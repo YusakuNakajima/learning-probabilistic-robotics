{
 "cells": [
  {
   "cell_type": "code",
   "execution_count": 1,
   "metadata": {},
   "outputs": [
    {
     "data": {
      "text/html": [
       "<div>\n",
       "<style scoped>\n",
       "    .dataframe tbody tr th:only-of-type {\n",
       "        vertical-align: middle;\n",
       "    }\n",
       "\n",
       "    .dataframe tbody tr th {\n",
       "        vertical-align: top;\n",
       "    }\n",
       "\n",
       "    .dataframe thead th {\n",
       "        text-align: right;\n",
       "    }\n",
       "</style>\n",
       "<table border=\"1\" class=\"dataframe\">\n",
       "  <thead>\n",
       "    <tr style=\"text-align: right;\">\n",
       "      <th></th>\n",
       "      <th>z</th>\n",
       "    </tr>\n",
       "  </thead>\n",
       "  <tbody>\n",
       "    <tr>\n",
       "      <th>0</th>\n",
       "      <td>610</td>\n",
       "    </tr>\n",
       "    <tr>\n",
       "      <th>1</th>\n",
       "      <td>613</td>\n",
       "    </tr>\n",
       "    <tr>\n",
       "      <th>2</th>\n",
       "      <td>613</td>\n",
       "    </tr>\n",
       "  </tbody>\n",
       "</table>\n",
       "</div>"
      ],
      "text/plain": [
       "     z\n",
       "0  610\n",
       "1  613\n",
       "2  613"
      ]
     },
     "metadata": {},
     "output_type": "display_data"
    },
    {
     "data": {
      "text/html": [
       "<div>\n",
       "<style scoped>\n",
       "    .dataframe tbody tr th:only-of-type {\n",
       "        vertical-align: middle;\n",
       "    }\n",
       "\n",
       "    .dataframe tbody tr th {\n",
       "        vertical-align: top;\n",
       "    }\n",
       "\n",
       "    .dataframe thead th {\n",
       "        text-align: right;\n",
       "    }\n",
       "</style>\n",
       "<table border=\"1\" class=\"dataframe\">\n",
       "  <thead>\n",
       "    <tr style=\"text-align: right;\">\n",
       "      <th></th>\n",
       "      <th>z</th>\n",
       "    </tr>\n",
       "  </thead>\n",
       "  <tbody>\n",
       "    <tr>\n",
       "      <th>996</th>\n",
       "      <td>640</td>\n",
       "    </tr>\n",
       "    <tr>\n",
       "      <th>997</th>\n",
       "      <td>640</td>\n",
       "    </tr>\n",
       "    <tr>\n",
       "      <th>998</th>\n",
       "      <td>640</td>\n",
       "    </tr>\n",
       "  </tbody>\n",
       "</table>\n",
       "</div>"
      ],
      "text/plain": [
       "       z\n",
       "996  640\n",
       "997  640\n",
       "998  640"
      ]
     },
     "metadata": {},
     "output_type": "display_data"
    }
   ],
   "source": [
    "import pandas as pd   ###variationalinference1init\n",
    "import math, random\n",
    "all_data  = pd.read_csv(\"sensor_data_600.txt\", delimiter=\" \", header=None, names = (\"date\",\"time\",\"ir\",\"z\"))#lidarのセンサ値は「z」に\n",
    "data = all_data.sample(1000).sort_values(by=\"z\").reset_index()  #1000個だけサンプリングしてインデックスを振り直す\n",
    "data = pd.DataFrame(data[\"z\"])\n",
    "\n",
    "display(data[0:3], data[-4:-1]) #とりあえず最初と最後のデータを表示"
   ]
  },
  {
   "cell_type": "code",
   "execution_count": 2,
   "metadata": {
    "scrolled": true
   },
   "outputs": [
    {
     "data": {
      "text/html": [
       "<div>\n",
       "<style scoped>\n",
       "    .dataframe tbody tr th:only-of-type {\n",
       "        vertical-align: middle;\n",
       "    }\n",
       "\n",
       "    .dataframe tbody tr th {\n",
       "        vertical-align: top;\n",
       "    }\n",
       "\n",
       "    .dataframe thead th {\n",
       "        text-align: right;\n",
       "    }\n",
       "</style>\n",
       "<table border=\"1\" class=\"dataframe\">\n",
       "  <thead>\n",
       "    <tr style=\"text-align: right;\">\n",
       "      <th></th>\n",
       "      <th>z</th>\n",
       "      <th>0</th>\n",
       "      <th>1</th>\n",
       "    </tr>\n",
       "  </thead>\n",
       "  <tbody>\n",
       "    <tr>\n",
       "      <th>0</th>\n",
       "      <td>610</td>\n",
       "      <td>1.0</td>\n",
       "      <td>0.0</td>\n",
       "    </tr>\n",
       "    <tr>\n",
       "      <th>1</th>\n",
       "      <td>613</td>\n",
       "      <td>1.0</td>\n",
       "      <td>0.0</td>\n",
       "    </tr>\n",
       "    <tr>\n",
       "      <th>2</th>\n",
       "      <td>613</td>\n",
       "      <td>1.0</td>\n",
       "      <td>0.0</td>\n",
       "    </tr>\n",
       "  </tbody>\n",
       "</table>\n",
       "</div>"
      ],
      "text/plain": [
       "     z    0    1\n",
       "0  610  1.0  0.0\n",
       "1  613  1.0  0.0\n",
       "2  613  1.0  0.0"
      ]
     },
     "metadata": {},
     "output_type": "display_data"
    },
    {
     "data": {
      "text/html": [
       "<div>\n",
       "<style scoped>\n",
       "    .dataframe tbody tr th:only-of-type {\n",
       "        vertical-align: middle;\n",
       "    }\n",
       "\n",
       "    .dataframe tbody tr th {\n",
       "        vertical-align: top;\n",
       "    }\n",
       "\n",
       "    .dataframe thead th {\n",
       "        text-align: right;\n",
       "    }\n",
       "</style>\n",
       "<table border=\"1\" class=\"dataframe\">\n",
       "  <thead>\n",
       "    <tr style=\"text-align: right;\">\n",
       "      <th></th>\n",
       "      <th>z</th>\n",
       "      <th>0</th>\n",
       "      <th>1</th>\n",
       "    </tr>\n",
       "  </thead>\n",
       "  <tbody>\n",
       "    <tr>\n",
       "      <th>996</th>\n",
       "      <td>640</td>\n",
       "      <td>0.0</td>\n",
       "      <td>1.0</td>\n",
       "    </tr>\n",
       "    <tr>\n",
       "      <th>997</th>\n",
       "      <td>640</td>\n",
       "      <td>0.0</td>\n",
       "      <td>1.0</td>\n",
       "    </tr>\n",
       "    <tr>\n",
       "      <th>998</th>\n",
       "      <td>640</td>\n",
       "      <td>0.0</td>\n",
       "      <td>1.0</td>\n",
       "    </tr>\n",
       "  </tbody>\n",
       "</table>\n",
       "</div>"
      ],
      "text/plain": [
       "       z    0    1\n",
       "996  640  0.0  1.0\n",
       "997  640  0.0  1.0\n",
       "998  640  0.0  1.0"
      ]
     },
     "metadata": {},
     "output_type": "display_data"
    }
   ],
   "source": [
    "##負担率の初期化## ###variationalinference1rate\n",
    "\n",
    "K = 2 #クラスタ数\n",
    "n = int(math.ceil(len(data)/K)) #クラスタあたりのセンサ値の数\n",
    "for k in range(K):\n",
    "    data[k] = [1.0 if k == int(i/n) else 0.0 for i,d in data.iterrows()] #データをK個に分けて、一つのr_{i,k}を1に。他を0に。\n",
    "    \n",
    "display(data[0:3], data[-4:-1])  #下の出力の「0」、「1」が負担率の列"
   ]
  },
  {
   "cell_type": "code",
   "execution_count": 3,
   "metadata": {},
   "outputs": [],
   "source": [
    "def update_parameters(ds, k, mu_avg=600, zeta=1, alpha=1, beta=1, tau=1):    ###variationalinference1params\n",
    "    R = sum([d[k] for _, d in ds.iterrows()])\n",
    "    S = sum([d[k]*d[\"z\"] for _, d in ds.iterrows()])\n",
    "    T = sum([d[k]*(d[\"z\"]**2) for _, d in ds.iterrows()])\n",
    "    \n",
    "    hat = {}\n",
    "\n",
    "    hat[\"tau\"] = R + tau\n",
    "    hat[\"zeta\"] = R + zeta\n",
    "    hat[\"mu_avg\"] = (S + zeta*mu_avg)/hat[\"zeta\"]\n",
    "    hat[\"alpha\"] = R/2 + alpha\n",
    "    hat[\"beta\"] = (T + zeta*(mu_avg**2) - hat[\"zeta\"]*(hat[\"mu_avg\"]**2))/2 + beta\n",
    "    \n",
    "    hat[\"z_std\"] = math.sqrt(hat[\"beta\"]/hat[\"alpha\"])\n",
    "    \n",
    "    return pd.DataFrame(hat, index=[k])"
   ]
  },
  {
   "cell_type": "code",
   "execution_count": 4,
   "metadata": {},
   "outputs": [
    {
     "data": {
      "text/html": [
       "<div>\n",
       "<style scoped>\n",
       "    .dataframe tbody tr th:only-of-type {\n",
       "        vertical-align: middle;\n",
       "    }\n",
       "\n",
       "    .dataframe tbody tr th {\n",
       "        vertical-align: top;\n",
       "    }\n",
       "\n",
       "    .dataframe thead th {\n",
       "        text-align: right;\n",
       "    }\n",
       "</style>\n",
       "<table border=\"1\" class=\"dataframe\">\n",
       "  <thead>\n",
       "    <tr style=\"text-align: right;\">\n",
       "      <th></th>\n",
       "      <th>tau</th>\n",
       "      <th>zeta</th>\n",
       "      <th>mu_avg</th>\n",
       "      <th>alpha</th>\n",
       "      <th>beta</th>\n",
       "      <th>z_std</th>\n",
       "    </tr>\n",
       "  </thead>\n",
       "  <tbody>\n",
       "    <tr>\n",
       "      <th>0</th>\n",
       "      <td>501.0</td>\n",
       "      <td>501.0</td>\n",
       "      <td>622.093812</td>\n",
       "      <td>251.0</td>\n",
       "      <td>3046.295409</td>\n",
       "      <td>3.483767</td>\n",
       "    </tr>\n",
       "    <tr>\n",
       "      <th>1</th>\n",
       "      <td>501.0</td>\n",
       "      <td>501.0</td>\n",
       "      <td>631.918164</td>\n",
       "      <td>251.0</td>\n",
       "      <td>2604.822355</td>\n",
       "      <td>3.221456</td>\n",
       "    </tr>\n",
       "  </tbody>\n",
       "</table>\n",
       "</div>"
      ],
      "text/plain": [
       "     tau   zeta      mu_avg  alpha         beta     z_std\n",
       "0  501.0  501.0  622.093812  251.0  3046.295409  3.483767\n",
       "1  501.0  501.0  631.918164  251.0  2604.822355  3.221456"
      ]
     },
     "execution_count": 4,
     "metadata": {},
     "output_type": "execute_result"
    }
   ],
   "source": [
    "params = pd.concat([update_parameters(data, k) for k in range(K)])   ###variationalinference1paramsolve\n",
    "params"
   ]
  },
  {
   "cell_type": "code",
   "execution_count": 5,
   "metadata": {},
   "outputs": [],
   "source": [
    "from scipy.stats import norm, dirichlet ###variationalinference1draw\n",
    "import matplotlib.pyplot as plt\n",
    "import numpy as np\n",
    "\n",
    "def draw(ps):\n",
    "    pi = dirichlet([ps[\"tau\"][k] for k in range(K)]).rvs()[0]\n",
    "    pdfs = [ norm(loc=ps[\"mu_avg\"][k], scale=ps[\"z_std\"][k]) for k in range(K) ]\n",
    "\n",
    "    xs = np.arange(600,650,0.5)\n",
    "\n",
    "    ##p(z)の描画##\n",
    "    ys = [ sum([pdfs[k].pdf(x)*pi[k] for k in range(K)])*len(data) for x in xs] #pdfを足してデータ数をかける\n",
    "    plt.plot(xs, ys, color=\"red\")\n",
    "\n",
    "    ##各ガウス分布の描画##\n",
    "    for k in range(K):\n",
    "        ys = [pdfs[k].pdf(x)*pi[k]*len(data) for x in xs]\n",
    "        plt.plot(xs, ys, color=\"blue\")\n",
    "\n",
    "    ##元のデータのヒストグラムの描画##\n",
    "    data[\"z\"].hist(bins = max(data[\"z\"]) - min(data[\"z\"]), align='left', alpha=0.4, color=\"gray\")\n",
    "    plt.show()"
   ]
  },
  {
   "cell_type": "code",
   "execution_count": 6,
   "metadata": {
    "scrolled": true
   },
   "outputs": [
    {
     "data": {
      "image/png": "[encoded data removed]",
      "text/plain": [
       "<Figure size 432x288 with 1 Axes>"
      ]
     },
     "metadata": {
      "needs_background": "light"
     },
     "output_type": "display_data"
    }
   ],
   "source": [
    "draw(params) ###variationalinference1graph"
   ]
  },
  {
   "cell_type": "code",
   "execution_count": 7,
   "metadata": {},
   "outputs": [],
   "source": [
    "from scipy.special import digamma  ###variationalinference1responsibility\n",
    "\n",
    "def responsibility(z, K, ps):\n",
    "    tau_sum = sum([ps[\"tau\"][k] for k in range(K)])\n",
    "    r = {}\n",
    "    for k in range(K):\n",
    "        log_rho = (digamma(ps[\"alpha\"][k]) - math.log(ps[\"beta\"][k]))/2 \\\n",
    "                            - (1/ps[\"zeta\"][k] + ((ps[\"mu_avg\"][k] - z)**2)*ps[\"alpha\"][k]/ps[\"beta\"][k])/2 \\\n",
    "                            + digamma(ps[\"tau\"][k]) - digamma(tau_sum)\n",
    "                \n",
    "        r[k] = math.exp(log_rho)\n",
    "       \n",
    "    w = sum([ r[k] for k in range(K) ]) #正規化\n",
    "    for k in range(K): r[k] /= w\n",
    "    \n",
    "    return r"
   ]
  },
  {
   "cell_type": "code",
   "execution_count": 8,
   "metadata": {},
   "outputs": [
    {
     "data": {
      "text/html": [
       "<div>\n",
       "<style scoped>\n",
       "    .dataframe tbody tr th:only-of-type {\n",
       "        vertical-align: middle;\n",
       "    }\n",
       "\n",
       "    .dataframe tbody tr th {\n",
       "        vertical-align: top;\n",
       "    }\n",
       "\n",
       "    .dataframe thead th {\n",
       "        text-align: right;\n",
       "    }\n",
       "</style>\n",
       "<table border=\"1\" class=\"dataframe\">\n",
       "  <thead>\n",
       "    <tr style=\"text-align: right;\">\n",
       "      <th></th>\n",
       "      <th>z</th>\n",
       "      <th>0</th>\n",
       "      <th>1</th>\n",
       "    </tr>\n",
       "  </thead>\n",
       "  <tbody>\n",
       "    <tr>\n",
       "      <th>0</th>\n",
       "      <td>610</td>\n",
       "      <td>1.000000</td>\n",
       "      <td>3.969494e-08</td>\n",
       "    </tr>\n",
       "    <tr>\n",
       "      <th>1</th>\n",
       "      <td>613</td>\n",
       "      <td>0.999999</td>\n",
       "      <td>1.058971e-06</td>\n",
       "    </tr>\n",
       "    <tr>\n",
       "      <th>2</th>\n",
       "      <td>613</td>\n",
       "      <td>0.999999</td>\n",
       "      <td>1.058971e-06</td>\n",
       "    </tr>\n",
       "  </tbody>\n",
       "</table>\n",
       "</div>"
      ],
      "text/plain": [
       "     z         0             1\n",
       "0  610  1.000000  3.969494e-08\n",
       "1  613  0.999999  1.058971e-06\n",
       "2  613  0.999999  1.058971e-06"
      ]
     },
     "metadata": {},
     "output_type": "display_data"
    },
    {
     "data": {
      "text/html": [
       "<div>\n",
       "<style scoped>\n",
       "    .dataframe tbody tr th:only-of-type {\n",
       "        vertical-align: middle;\n",
       "    }\n",
       "\n",
       "    .dataframe tbody tr th {\n",
       "        vertical-align: top;\n",
       "    }\n",
       "\n",
       "    .dataframe thead th {\n",
       "        text-align: right;\n",
       "    }\n",
       "</style>\n",
       "<table border=\"1\" class=\"dataframe\">\n",
       "  <thead>\n",
       "    <tr style=\"text-align: right;\">\n",
       "      <th></th>\n",
       "      <th>z</th>\n",
       "      <th>0</th>\n",
       "      <th>1</th>\n",
       "    </tr>\n",
       "  </thead>\n",
       "  <tbody>\n",
       "    <tr>\n",
       "      <th>500</th>\n",
       "      <td>628</td>\n",
       "      <td>0.315243</td>\n",
       "      <td>0.684757</td>\n",
       "    </tr>\n",
       "    <tr>\n",
       "      <th>501</th>\n",
       "      <td>628</td>\n",
       "      <td>0.315243</td>\n",
       "      <td>0.684757</td>\n",
       "    </tr>\n",
       "    <tr>\n",
       "      <th>502</th>\n",
       "      <td>628</td>\n",
       "      <td>0.315243</td>\n",
       "      <td>0.684757</td>\n",
       "    </tr>\n",
       "  </tbody>\n",
       "</table>\n",
       "</div>"
      ],
      "text/plain": [
       "       z         0         1\n",
       "500  628  0.315243  0.684757\n",
       "501  628  0.315243  0.684757\n",
       "502  628  0.315243  0.684757"
      ]
     },
     "metadata": {},
     "output_type": "display_data"
    },
    {
     "data": {
      "text/html": [
       "<div>\n",
       "<style scoped>\n",
       "    .dataframe tbody tr th:only-of-type {\n",
       "        vertical-align: middle;\n",
       "    }\n",
       "\n",
       "    .dataframe tbody tr th {\n",
       "        vertical-align: top;\n",
       "    }\n",
       "\n",
       "    .dataframe thead th {\n",
       "        text-align: right;\n",
       "    }\n",
       "</style>\n",
       "<table border=\"1\" class=\"dataframe\">\n",
       "  <thead>\n",
       "    <tr style=\"text-align: right;\">\n",
       "      <th></th>\n",
       "      <th>z</th>\n",
       "      <th>0</th>\n",
       "      <th>1</th>\n",
       "    </tr>\n",
       "  </thead>\n",
       "  <tbody>\n",
       "    <tr>\n",
       "      <th>996</th>\n",
       "      <td>640</td>\n",
       "      <td>0.000039</td>\n",
       "      <td>0.999961</td>\n",
       "    </tr>\n",
       "    <tr>\n",
       "      <th>997</th>\n",
       "      <td>640</td>\n",
       "      <td>0.000039</td>\n",
       "      <td>0.999961</td>\n",
       "    </tr>\n",
       "    <tr>\n",
       "      <th>998</th>\n",
       "      <td>640</td>\n",
       "      <td>0.000039</td>\n",
       "      <td>0.999961</td>\n",
       "    </tr>\n",
       "  </tbody>\n",
       "</table>\n",
       "</div>"
      ],
      "text/plain": [
       "       z         0         1\n",
       "996  640  0.000039  0.999961\n",
       "997  640  0.000039  0.999961\n",
       "998  640  0.000039  0.999961"
      ]
     },
     "metadata": {},
     "output_type": "display_data"
    }
   ],
   "source": [
    "rs = [responsibility(d[\"z\"], K, params) for _, d in data.iterrows() ] ###variationalinference1calcr\n",
    "\n",
    "for k in range(K):\n",
    "    data[k] = [rs[i][k] for i,_ in data.iterrows()]\n",
    "    \n",
    "display(data[0:3], data[len(data)//2:len(data)//2+3], data[-4:-1]) #データの先頭、中盤、後ろを表示"
   ]
  }
 ],
 "metadata": {
  "kernelspec": {
   "display_name": "Python 3",
   "language": "python",
   "name": "python3"
  },
  "language_info": {
   "codemirror_mode": {
    "name": "ipython",
    "version": 3
   },
   "file_extension": ".py",
   "mimetype": "text/x-python",
   "name": "python",
   "nbconvert_exporter": "python",
   "pygments_lexer": "ipython3",
   "version": "3.7.0"
  }
 },
 "nbformat": 4,
 "nbformat_minor": 2
}
