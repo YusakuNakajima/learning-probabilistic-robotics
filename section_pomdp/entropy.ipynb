{
 "cells": [
  {
   "cell_type": "code",
   "execution_count": 1,
   "metadata": {},
   "outputs": [],
   "source": [
    "import numpy as np"
   ]
  },
  {
   "cell_type": "code",
   "execution_count": 2,
   "metadata": {},
   "outputs": [
    {
     "name": "stdout",
     "output_type": "stream",
     "text": [
      "0.001 \t -16.466450237332392\n",
      "0.01 \t -9.558694958350255\n",
      "0.1 \t -2.6509396793681184\n",
      "0.2 \t -0.5714981376882826\n",
      "0.3 \t 0.6448971866362094\n",
      "0.4 \t 1.5079434039915531\n",
      "0.5 \t 2.1773740579341823\n",
      "0.6 \t 2.724338728316046\n",
      "0.7 \t 3.1867907677978207\n",
      "0.8 \t 3.587384945671389\n",
      "0.9 \t 3.940734052640539\n",
      "1.0 \t 4.2568155996140185\n",
      "2.0 \t 6.336257141293854\n"
     ]
    }
   ],
   "source": [
    "for sigma in [ 0.001, 0.01, 0.1, 0.2, 0.3, 0.4, 0.5, 0.6, 0.7, 0.8, 0.9, 1.0, 2.0]:\n",
    "    ent = 1.5*np.log(2*np.pi) + 3*np.log(sigma) + 1.5\n",
    "    print(sigma, \"\\t\", ent)"
   ]
  },
  {
   "cell_type": "code",
   "execution_count": 3,
   "metadata": {},
   "outputs": [
    {
     "name": "stdout",
     "output_type": "stream",
     "text": [
      "0.001 \t -16.466450237332392\n",
      "0.01 \t -9.558694958350255\n",
      "0.1 \t -2.6509396793681184\n",
      "0.2 \t -0.5714981376882822\n",
      "0.3 \t 0.6448971866362099\n",
      "0.4 \t 1.5079434039915536\n",
      "0.5 \t 2.1773740579341827\n",
      "0.6 \t 2.724338728316046\n",
      "0.7 \t 3.186790767797821\n",
      "0.8 \t 3.5873849456713893\n",
      "0.9 \t 3.94073405264054\n",
      "1.0 \t 4.2568155996140185\n",
      "2.0 \t 6.336257141293855\n"
     ]
    }
   ],
   "source": [
    "from scipy.stats import multivariate_normal\n",
    "for sigma in [ 0.001, 0.01, 0.1, 0.2, 0.3, 0.4, 0.5, 0.6, 0.7, 0.8, 0.9, 1.0, 2.0]:\n",
    "    g = multivariate_normal(mean=np.zeros(3), cov=np.eye(3)*(sigma**2))\n",
    "    print(sigma, \"\\t\", g.entropy())"
   ]
  },
  {
   "cell_type": "code",
   "execution_count": null,
   "metadata": {},
   "outputs": [],
   "source": []
  }
 ],
 "metadata": {
  "kernelspec": {
   "display_name": "Python 3",
   "language": "python",
   "name": "python3"
  },
  "language_info": {
   "codemirror_mode": {
    "name": "ipython",
    "version": 3
   },
   "file_extension": ".py",
   "mimetype": "text/x-python",
   "name": "python",
   "nbconvert_exporter": "python",
   "pygments_lexer": "ipython3",
   "version": "3.7.0"
  }
 },
 "nbformat": 4,
 "nbformat_minor": 2
}
