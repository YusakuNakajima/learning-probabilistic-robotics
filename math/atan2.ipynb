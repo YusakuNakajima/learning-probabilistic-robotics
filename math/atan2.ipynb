{
 "cells": [
  {
   "cell_type": "code",
   "execution_count": 1,
   "metadata": {},
   "outputs": [
    {
     "name": "stdout",
     "output_type": "stream",
     "text": [
      "1.1071487177940904 1.1071487177940906\n",
      "2.0344439357957027 -1.1071487177940906\n",
      "-2.0344439357957027 1.1071487177940906\n",
      "-1.1071487177940904 -1.1071487177940906\n"
     ]
    }
   ],
   "source": [
    "import math  ###atan2\n",
    "\n",
    "print(math.atan2(2, 1), math.atan(2/(1)))       #y=2, x=1       第1象限\n",
    "print(math.atan2(2, -1), math.atan(2/(-1)))    #y=2, x=-1     第2象限\n",
    "print(math.atan2(-2, -1), math.atan(-2/(-1)))  #y=-2, x=-1    第3象限\n",
    "print(math.atan2(-2, 1), math.atan(-2/(1)))     #y=-2, x=1     第4象限"
   ]
  },
  {
   "cell_type": "code",
   "execution_count": null,
   "metadata": {},
   "outputs": [],
   "source": []
  }
 ],
 "metadata": {
  "kernelspec": {
   "display_name": "Python 3",
   "language": "python",
   "name": "python3"
  },
  "language_info": {
   "codemirror_mode": {
    "name": "ipython",
    "version": 3
   },
   "file_extension": ".py",
   "mimetype": "text/x-python",
   "name": "python",
   "nbconvert_exporter": "python",
   "pygments_lexer": "ipython3",
   "version": "3.7.0"
  }
 },
 "nbformat": 4,
 "nbformat_minor": 2
}
